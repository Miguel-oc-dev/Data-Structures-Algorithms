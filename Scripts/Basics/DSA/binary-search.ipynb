{
 "cells": [
  {
   "cell_type": "code",
   "execution_count": 4,
   "id": "8f9c00a7",
   "metadata": {},
   "outputs": [],
   "source": [
    "A = [-3, -1, 0, 1, 4, 7]\n",
    "\n",
    "# Naive O(n)\n",
    "\n",
    "if 8 in A:\n",
    "    print(True)"
   ]
  },
  {
   "cell_type": "code",
   "execution_count": 6,
   "id": "c38bb84b",
   "metadata": {},
   "outputs": [
    {
     "data": {
      "text/plain": [
       "False"
      ]
     },
     "execution_count": 6,
     "metadata": {},
     "output_type": "execute_result"
    }
   ],
   "source": [
    "# Traditional Binary Search - Looking up if number is in array:\n",
    "# Time: O(log n)\n",
    "# Space: O(1)\n",
    "\n",
    "def binary_search(arr, target):\n",
    "    N = len(arr)\n",
    "    L = 0\n",
    "    R = N - 1\n",
    "\n",
    "    while L <= R:\n",
    "        M = L + ((R-L) // 2)\n",
    "\n",
    "        if arr[M] == target:\n",
    "            return True\n",
    "        elif target < arr[M]:\n",
    "            R = M - 1\n",
    "        else:\n",
    "            L = M + 1\n",
    "\n",
    "    return False\n",
    "\n",
    "binary_search(A, 8)"
   ]
  },
  {
   "cell_type": "code",
   "execution_count": 7,
   "id": "3545b97b",
   "metadata": {},
   "outputs": [
    {
     "data": {
      "text/plain": [
       "4"
      ]
     },
     "execution_count": 7,
     "metadata": {},
     "output_type": "execute_result"
    }
   ],
   "source": [
    "# Condition based\n",
    "\n",
    "B = [False, False, False, False, True]\n",
    "\n",
    "def binary_search_condition(arr):\n",
    "    N = len(arr)\n",
    "    L = 0\n",
    "    R = N - 1\n",
    "\n",
    "    while L < R:\n",
    "        M = (L + R) // 2\n",
    "\n",
    "        if arr[M]:\n",
    "            R = M\n",
    "        else:\n",
    "            L = M + 1\n",
    "\n",
    "    return L\n",
    "\n",
    "binary_search_condition(B)"
   ]
  },
  {
   "cell_type": "code",
   "execution_count": 8,
   "id": "b17ce282",
   "metadata": {},
   "outputs": [
    {
     "name": "stdout",
     "output_type": "stream",
     "text": [
      "The guessed number is: 2\n"
     ]
    }
   ],
   "source": [
    "# Range-Based\n",
    "\n",
    "def guess_number(target, L, R):\n",
    "    while L <= R:\n",
    "        M = (L + R) // 2\n",
    "\n",
    "        if M == target:\n",
    "            return M # Found the number\n",
    "        elif M < target:\n",
    "            L = M + 1\n",
    "        else:\n",
    "            R = M - 1\n",
    "\n",
    "    return -1 # Target nor found\n",
    "\n",
    "target = 2\n",
    "result = guess_number(target, 1, 100)\n",
    "print(f\"The guessed number is: {result}\")"
   ]
  }
 ],
 "metadata": {
  "kernelspec": {
   "display_name": "Python 3",
   "language": "python",
   "name": "python3"
  },
  "language_info": {
   "codemirror_mode": {
    "name": "ipython",
    "version": 3
   },
   "file_extension": ".py",
   "mimetype": "text/x-python",
   "name": "python",
   "nbconvert_exporter": "python",
   "pygments_lexer": "ipython3",
   "version": "3.13.1"
  }
 },
 "nbformat": 4,
 "nbformat_minor": 5
}
