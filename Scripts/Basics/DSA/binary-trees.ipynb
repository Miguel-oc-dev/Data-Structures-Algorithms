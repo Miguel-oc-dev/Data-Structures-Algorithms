{
 "cells": [
  {
   "cell_type": "code",
   "execution_count": null,
   "id": "771b61d6",
   "metadata": {},
   "outputs": [],
   "source": [
    "# Binary Trees\n",
    "class TreeNode:\n",
    "    def __init__(self, val, left=None, right=None):\n",
    "        self.val = val\n",
    "        self.left = left\n",
    "        self.right = right\n",
    "\n",
    "    def __str__(self):\n",
    "        return str(self.val)"
   ]
  },
  {
   "cell_type": "code",
   "execution_count": null,
   "id": "c182d807",
   "metadata": {},
   "outputs": [],
   "source": [
    "A = TreeNode(1)\n",
    "B = TreeNode(2)\n",
    "C = TreeNode(3)\n",
    "D = TreeNode(4)\n",
    "E = TreeNode(5)\n",
    "F = TreeNode(10)\n",
    "\n",
    "A.left = B\n",
    "A.right = C\n",
    "B.left = D\n",
    "B.right = E\n",
    "C.left = F\n",
    "\n",
    "print(A)"
   ]
  },
  {
   "cell_type": "code",
   "execution_count": null,
   "id": "570a2727",
   "metadata": {},
   "outputs": [],
   "source": [
    "# Recursive Pre Order Traversal (DFS) Time: O(n), Space: O(n)\n",
    "def pre_order(node):\n",
    "    if not node:\n",
    "        return\n",
    "\n",
    "    print(node)\n",
    "    pre_order(node.left)\n",
    "    pre_order(node.right)\n",
    "\n",
    "pre_order(A)"
   ]
  },
  {
   "cell_type": "code",
   "execution_count": null,
   "id": "780a09b0",
   "metadata": {},
   "outputs": [],
   "source": [
    "# Recursive In Order Traversal (DFS) Time: O(n), Space: O(n)\n",
    "def in_order(node):\n",
    "    if not node:\n",
    "        return\n",
    "\n",
    "    in_order(node.left)\n",
    "    print(node)\n",
    "    in_order(node.right)\n",
    "\n",
    "in_order(A)"
   ]
  },
  {
   "cell_type": "code",
   "execution_count": null,
   "id": "780ef123",
   "metadata": {},
   "outputs": [],
   "source": [
    "# Iterative Pre Order Traversal (DFS) Time: O(n), Space: O(n)\n",
    "def pre_order_iterative(node):\n",
    "    stk = [node]\n",
    "\n",
    "    while stk:\n",
    "        node = stk.pop()\n",
    "        if node.right: stk.append(node.right)\n",
    "        if node.left: stk.append(node.left)\n",
    "        print(node)\n",
    "\n",
    "pre_order_iterative(A)"
   ]
  },
  {
   "cell_type": "code",
   "execution_count": null,
   "id": "5dc16c8d",
   "metadata": {},
   "outputs": [],
   "source": [
    "# Level Order Traversal (BFS) Time: O(n), Space: O(n)\n",
    "from collections import deque\n",
    "\n",
    "def level_order(node):\n",
    "    q = deque()\n",
    "    q.append(node)\n",
    "\n",
    "    while q:\n",
    "        node = q.popleft()\n",
    "        print(node)\n",
    "        if node.left: q.append(node.left)\n",
    "        if node.right: q.append(node.right)\n",
    "\n",
    "level_order(A)"
   ]
  },
  {
   "cell_type": "code",
   "execution_count": null,
   "id": "81801f4d",
   "metadata": {},
   "outputs": [],
   "source": [
    "# Check if Value Exists (DFS) Time: O(n), Space: O(n)\n",
    "def search(node, target):\n",
    "    if not node:\n",
    "        return False\n",
    "\n",
    "    if node.val == target:\n",
    "        return True\n",
    "\n",
    "    return search(node.left, target) or search(node.right, target)\n",
    "\n",
    "search(A, 11)"
   ]
  },
  {
   "cell_type": "code",
   "execution_count": null,
   "id": "36fbc4d8",
   "metadata": {},
   "outputs": [],
   "source": [
    "# Binary Search Trees (BSTs)\n",
    "\n",
    "#       5\n",
    "#    1    8\n",
    "#  -1 3  7 9\n",
    "\n",
    "A2 = TreeNode(5)\n",
    "B2 = TreeNode(1)\n",
    "C2 = TreeNode(8)\n",
    "D2 = TreeNode(-1)\n",
    "E2 = TreeNode(3)\n",
    "F2 = TreeNode(7)\n",
    "G2 = TreeNode(9)\n",
    "\n",
    "A2.left, A2.right = B2, C2\n",
    "B2.left, B2.right = D2, E2\n",
    "C2.left, C2.right = F2, G2\n",
    "\n",
    "print(A2)"
   ]
  },
  {
   "cell_type": "code",
   "execution_count": null,
   "id": "715fbe8c",
   "metadata": {},
   "outputs": [],
   "source": [
    "in_order(A2)"
   ]
  },
  {
   "cell_type": "code",
   "execution_count": null,
   "id": "545ea76b",
   "metadata": {},
   "outputs": [],
   "source": [
    "# Time: O(log n), Space: O(log n)\n",
    "def search_bst(node, target):\n",
    "    if not node:\n",
    "        return False\n",
    "\n",
    "    if node.val == target:\n",
    "        return True\n",
    "\n",
    "    if target < node.val: return search_bst(node.left, target)\n",
    "    else: return search_bst(node.right, target)\n",
    "\n",
    "search_bst(A2, -1)"
   ]
  }
 ],
 "metadata": {
  "language_info": {
   "name": "python"
  }
 },
 "nbformat": 4,
 "nbformat_minor": 5
}
