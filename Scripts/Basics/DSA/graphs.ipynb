{
 "cells": [
  {
   "cell_type": "markdown",
   "id": "58e6ce76",
   "metadata": {},
   "source": [
    "![alt text](image-1.png)"
   ]
  },
  {
   "cell_type": "code",
   "execution_count": 1,
   "id": "0c092527",
   "metadata": {},
   "outputs": [
    {
     "data": {
      "text/plain": [
       "[[0, 1], [1, 2], [0, 3], [3, 4], [3, 6], [3, 7], [4, 2], [4, 5], [5, 2]]"
      ]
     },
     "execution_count": 1,
     "metadata": {},
     "output_type": "execute_result"
    }
   ],
   "source": [
    "# Array of Edges (Directed) [Start, End]\n",
    "\n",
    "n = 8\n",
    "A = [[0, 1], [1, 2], [0, 3], [3, 4], [3, 6], [3, 7], [4, 2], [4, 5], [5, 2]]\n",
    "\n",
    "A"
   ]
  },
  {
   "cell_type": "code",
   "execution_count": 2,
   "id": "aabfb52e",
   "metadata": {},
   "outputs": [
    {
     "data": {
      "text/plain": [
       "[[0, 1, 0, 1, 0, 0, 0, 0],\n",
       " [0, 0, 1, 0, 0, 0, 0, 0],\n",
       " [0, 0, 0, 0, 0, 0, 0, 0],\n",
       " [0, 0, 0, 0, 1, 0, 1, 1],\n",
       " [0, 0, 1, 0, 0, 1, 0, 0],\n",
       " [0, 0, 1, 0, 0, 0, 0, 0],\n",
       " [0, 0, 0, 0, 0, 0, 0, 0],\n",
       " [0, 0, 0, 0, 0, 0, 0, 0]]"
      ]
     },
     "execution_count": 2,
     "metadata": {},
     "output_type": "execute_result"
    }
   ],
   "source": [
    "# Convert Array of Edges -> Adjacency Matrix\n",
    "\n",
    "M = []\n",
    "\n",
    "for i in range(n):\n",
    "    M.append([0] * n)\n",
    "\n",
    "for u, v in A:\n",
    "    M[u][v] = 1\n",
    "\n",
    "    # Uncomment the following line if the graph is undirected\n",
    "    # M[v][u] = 1\n",
    "\n",
    "M"
   ]
  },
  {
   "cell_type": "code",
   "execution_count": null,
   "id": "6fc3366c",
   "metadata": {},
   "outputs": [
    {
     "data": {
      "text/plain": [
       "defaultdict(list, {0: [1, 3], 1: [2], 3: [4, 6, 7], 4: [2, 5], 5: [2]})"
      ]
     },
     "execution_count": 3,
     "metadata": {},
     "output_type": "execute_result"
    }
   ],
   "source": [
    "# Convert Array of Edges -> Adjacency List\n",
    "\n",
    "from collections import defaultdict\n",
    "\n",
    "D = defaultdict(list)\n",
    "\n",
    "for u, v in A:\n",
    "    D[u].append(v)\n",
    "    # Uncomment the following line if the graph is undirected\n",
    "    # D[v].append(u)\n",
    "\n",
    "D"
   ]
  },
  {
   "cell_type": "code",
   "execution_count": 4,
   "id": "edb3d070",
   "metadata": {},
   "outputs": [
    {
     "data": {
      "text/plain": [
       "[4, 6, 7]"
      ]
     },
     "execution_count": 4,
     "metadata": {},
     "output_type": "execute_result"
    }
   ],
   "source": [
    "D[3]"
   ]
  },
  {
   "cell_type": "markdown",
   "id": "0b355f81",
   "metadata": {},
   "source": [
    "Depth First Search (DFS)\n",
    "O(V + E)\n",
    "Where V is the number of nodes and E is the number of edges"
   ]
  },
  {
   "cell_type": "code",
   "execution_count": 5,
   "id": "e0dabf5f",
   "metadata": {},
   "outputs": [
    {
     "name": "stdout",
     "output_type": "stream",
     "text": [
      "0\n",
      "1\n",
      "2\n",
      "3\n",
      "4\n",
      "5\n",
      "6\n",
      "7\n"
     ]
    }
   ],
   "source": [
    "def dfs_recursive(node):\n",
    "    print(node)\n",
    "\n",
    "    for nei_node in D[node]:\n",
    "        if nei_node not in seen:\n",
    "            seen.add(nei_node)\n",
    "            dfs_recursive(nei_node)\n",
    "\n",
    "source = 0\n",
    "seen = set()\n",
    "seen.add(source)\n",
    "dfs_recursive(source)"
   ]
  },
  {
   "cell_type": "markdown",
   "id": "5530a916",
   "metadata": {},
   "source": [
    "Iterative DFS with Stack\n",
    "O(V + E)"
   ]
  },
  {
   "cell_type": "code",
   "execution_count": 6,
   "id": "dd0b3f4c",
   "metadata": {},
   "outputs": [
    {
     "name": "stdout",
     "output_type": "stream",
     "text": [
      "0\n",
      "3\n",
      "7\n",
      "6\n",
      "4\n",
      "5\n",
      "2\n",
      "1\n"
     ]
    }
   ],
   "source": [
    "source = 0\n",
    "\n",
    "seen = set()\n",
    "seen.add(source)\n",
    "stack = [source]\n",
    "\n",
    "while stack:\n",
    "    node = stack.pop()\n",
    "    print(node)\n",
    "\n",
    "    for nei_node in D[node]:\n",
    "        if nei_node not in seen:\n",
    "            seen.add(nei_node)\n",
    "            stack.append(nei_node)"
   ]
  },
  {
   "cell_type": "markdown",
   "id": "f0e2a9c9",
   "metadata": {},
   "source": [
    "Breadth First Search (BFS) - Queue\n",
    "O(V - E)"
   ]
  },
  {
   "cell_type": "code",
   "execution_count": 7,
   "id": "116cf261",
   "metadata": {},
   "outputs": [
    {
     "name": "stdout",
     "output_type": "stream",
     "text": [
      "0\n",
      "1\n",
      "3\n",
      "2\n",
      "4\n",
      "6\n",
      "7\n",
      "5\n"
     ]
    }
   ],
   "source": [
    "source = 0\n",
    "from collections import deque\n",
    "\n",
    "seen = set()\n",
    "seen.add(source)\n",
    "q = deque()\n",
    "q.append(source)\n",
    "\n",
    "while q:\n",
    "    node = q.popleft()\n",
    "    print(node)\n",
    "\n",
    "    for nei_node in D[node]:\n",
    "        if nei_node not in seen:\n",
    "            seen.add(nei_node)\n",
    "            q.append(nei_node)"
   ]
  },
  {
   "cell_type": "code",
   "execution_count": null,
   "id": "64ad680a",
   "metadata": {},
   "outputs": [],
   "source": [
    "class Node:\n",
    "    def __init__(self, value):\n",
    "        self.value = value\n",
    "        self.neighbors = []\n",
    "\n",
    "    def __str__(self):\n",
    "        return f'Node({self.value})'\n",
    "    \n",
    "    def display(self):\n",
    "        connections = [node.value for node in self.neighbors]\n",
    "        return f'{self.value} is connected to: {connections}'\n",
    "\n",
    "A = Node('A')\n",
    "B = Node('B')\n",
    "C = Node('C')\n",
    "D = Node('D')\n",
    "\n",
    "A.neighbors.append(B)\n",
    "B.neighbors.append(A)\n",
    "\n",
    "C.neighbors.append(D)\n",
    "D.neighbors.append(C)\n",
    "\n",
    "B.display()"
   ]
  }
 ],
 "metadata": {
  "kernelspec": {
   "display_name": "Python 3",
   "language": "python",
   "name": "python3"
  },
  "language_info": {
   "codemirror_mode": {
    "name": "ipython",
    "version": 3
   },
   "file_extension": ".py",
   "mimetype": "text/x-python",
   "name": "python",
   "nbconvert_exporter": "python",
   "pygments_lexer": "ipython3",
   "version": "3.13.1"
  }
 },
 "nbformat": 4,
 "nbformat_minor": 5
}
